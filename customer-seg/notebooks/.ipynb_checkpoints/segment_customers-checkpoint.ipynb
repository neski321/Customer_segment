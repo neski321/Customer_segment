{
 "cells": [
  {
   "cell_type": "code",
   "execution_count": null,
   "id": "063226a8-077b-4fd6-9d7a-c09ce7b36b1d",
   "metadata": {},
   "outputs": [],
   "source": [
    "import pandas as pd\n",
    "\n",
    "df = pd.read_excel('../data/Online Retail.xlsx')\n",
    "df = df.dropna(subset=['CustomerID'])\n",
    "df = df[~df['InvoiceNo'].astype(str).str.startswith('C')]\n",
    "df['TotalPrice'] = df['Quantity'] * df['UnitPrice']\n",
    "df['InvoiceDate'] = pd.to_datetime(df['InvoiceDate'])\n",
    "\n",
    "df.head()"
   ]
  },
  {
   "cell_type": "code",
   "execution_count": null,
   "id": "9cb85187-ddc8-416a-8dc8-0f1d09cb31b0",
   "metadata": {},
   "outputs": [],
   "source": [
    "from datetime import timedelta\n",
    "\n",
    "snapshot_date = df['InvoiceDate'].max() + timedelta(days=1)\n",
    "\n",
    "rfm = df.groupby('CustomerID').agg({\n",
    "    'InvoiceDate': lambda x: (snapshot_date - x.max()).days,\n",
    "    'InvoiceNo': 'nunique',\n",
    "    'TotalPrice': 'sum'\n",
    "}).reset_index()\n",
    "\n",
    "rfm.columns = ['CustomerID', 'Recency', 'Frequency', 'Monetary']\n",
    "rfm.head()\n"
   ]
  },
  {
   "cell_type": "code",
   "execution_count": null,
   "id": "bbcf797c-0ade-4460-b90e-22bd101a466e",
   "metadata": {},
   "outputs": [],
   "source": [
    "from sklearn.preprocessing import StandardScaler\n",
    "from sklearn.cluster import KMeans\n",
    "\n",
    "scaler = StandardScaler()\n",
    "X = scaler.fit_transform(rfm[['Recency', 'Frequency', 'Monetary']])\n",
    "\n",
    "kmeans = KMeans(n_clusters=4, random_state=42)\n",
    "rfm['Segment'] = kmeans.fit_predict(X)\n",
    "rfm.head()\n"
   ]
  },
  {
   "cell_type": "code",
   "execution_count": null,
   "id": "1e3ea7a3-5d4b-4549-8bb1-488982719214",
   "metadata": {},
   "outputs": [],
   "source": [
    "import seaborn as sns\n",
    "import matplotlib.pyplot as plt\n",
    "\n",
    "sns.scatterplot(data=rfm, x='Recency', y='Monetary', hue='Segment', palette='Set2')\n",
    "plt.title('Customer Segments by Recency and Monetary Value')\n",
    "plt.show()\n"
   ]
  },
  {
   "cell_type": "markdown",
   "id": "9de49c16-d6c4-4df3-a052-4f3f3fc974c5",
   "metadata": {},
   "source": [
    "## 📊 Data Exploration\n",
    "Let's understand the structure and key characteristics of the UCI Online Retail dataset.\n"
   ]
  },
  {
   "cell_type": "code",
   "execution_count": null,
   "id": "4f2b9db2-604b-40d5-8a1f-f6929fae10bc",
   "metadata": {},
   "outputs": [],
   "source": [
    "# Number of rows and columns\n",
    "print(\"📦 Shape of dataset:\", df.shape)\n",
    "\n",
    "# Display random sample of 5 rows\n",
    "print(\"\\n🔍 Sample rows:\")\n",
    "display(df.sample(5))\n",
    "\n",
    "# Number of unique customers\n",
    "print(\"\\n👥 Unique customers:\", df['CustomerID'].nunique())\n",
    "\n",
    "# Top 10 countries by order count\n",
    "print(\"\\n🌍 Top 10 countries by order count:\")\n",
    "display(df['Country'].value_counts().head(10))\n",
    "\n",
    "# Quantity stats\n",
    "print(\"\\n📦 Quantity distribution:\")\n",
    "display(df['Quantity'].describe())\n",
    "\n",
    "# Negative quantities (possibly returns)\n",
    "print(\"\\n❗ Negative quantities (returns or cancellations):\")\n",
    "display(df[df['Quantity'] < 0].head())\n",
    "\n",
    "# Price stats\n",
    "print(\"\\n💷 Unit price distribution:\")\n",
    "display(df['UnitPrice'].describe())\n"
   ]
  }
 ],
 "metadata": {
  "kernelspec": {
   "display_name": "Python 3 (ipykernel)",
   "language": "python",
   "name": "python3"
  },
  "language_info": {
   "codemirror_mode": {
    "name": "ipython",
    "version": 3
   },
   "file_extension": ".py",
   "mimetype": "text/x-python",
   "name": "python",
   "nbconvert_exporter": "python",
   "pygments_lexer": "ipython3",
   "version": "3.13.3"
  }
 },
 "nbformat": 4,
 "nbformat_minor": 5
}
